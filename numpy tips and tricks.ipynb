{
 "cells": [
  {
   "cell_type": "code",
   "execution_count": 10,
   "id": "54a79adb",
   "metadata": {},
   "outputs": [
    {
     "name": "stdout",
     "output_type": "stream",
     "text": [
      "[49 84 65 87 88 78 60 25 84 26  9 22 45 65 70]\n",
      "[ 9 22 25 26 45 49 60 65 65 70 78 84 84 87 88]\n",
      "[88 87 84 84 78 70 65 65 60 49 45 26 25 22  9]\n",
      "[ 49  84  65  87  88  78  60  25  84  26   9  22  45  65  70 200]\n"
     ]
    }
   ],
   "source": [
    "# single dimensional\n",
    "import numpy as np\n",
    "a = np.random.randint(1,100,15)\n",
    "print(a)\n",
    "\n",
    "# sorting\n",
    "c = np.sort(a)\n",
    "print(c)\n",
    "\n",
    "# descending order\n",
    "reverse = np.sort(a)[::-1]\n",
    "print(reverse)\n",
    "\n",
    "# append\n",
    "print(np.append(a,200))"
   ]
  },
  {
   "cell_type": "code",
   "execution_count": 12,
   "id": "68fb8678",
   "metadata": {},
   "outputs": [
    {
     "name": "stdout",
     "output_type": "stream",
     "text": [
      "[[23 90 85 30]\n",
      " [42 14 69 64]\n",
      " [10 24 56 33]\n",
      " [10 43 89 90]\n",
      " [13 58 30 41]\n",
      " [57 91 54 92]]\n",
      "[[10 14 30 30]\n",
      " [10 24 54 33]\n",
      " [13 43 56 41]\n",
      " [23 58 69 64]\n",
      " [42 90 85 90]\n",
      " [57 91 89 92]]\n",
      "[[23 30 85 90]\n",
      " [14 42 64 69]\n",
      " [10 24 33 56]\n",
      " [10 43 89 90]\n",
      " [13 30 41 58]\n",
      " [54 57 91 92]]\n"
     ]
    },
    {
     "data": {
      "text/plain": [
       "array([[2.30000000e+01, 9.00000000e+01, 8.50000000e+01, 3.00000000e+01,\n",
       "        9.57200849e-01],\n",
       "       [4.20000000e+01, 1.40000000e+01, 6.90000000e+01, 6.40000000e+01,\n",
       "        9.67799932e-01],\n",
       "       [1.00000000e+01, 2.40000000e+01, 5.60000000e+01, 3.30000000e+01,\n",
       "        1.50698641e-02],\n",
       "       [1.00000000e+01, 4.30000000e+01, 8.90000000e+01, 9.00000000e+01,\n",
       "        4.25295321e-01],\n",
       "       [1.30000000e+01, 5.80000000e+01, 3.00000000e+01, 4.10000000e+01,\n",
       "        5.00193655e-01],\n",
       "       [5.70000000e+01, 9.10000000e+01, 5.40000000e+01, 9.20000000e+01,\n",
       "        4.64158966e-01]])"
      ]
     },
     "execution_count": 12,
     "metadata": {},
     "output_type": "execute_result"
    }
   ],
   "source": [
    "# multidimensional\n",
    "b = np.random.randint(1,100,24).reshape(6,4)\n",
    "print(b)\n",
    "# sorting\n",
    "d = np.sort(b,axis=0)\n",
    "e = np.sort(b,axis=1)\n",
    "print(d)\n",
    "print(e)\n",
    "\n",
    "# append\n",
    "np.append(b,np.ones((b.shape[0],1)), axis=1)\n",
    "#np.append(b,np.random.random((b.shape[0],1)),axis=1)"
   ]
  },
  {
   "cell_type": "code",
   "execution_count": 16,
   "id": "4a26d601",
   "metadata": {},
   "outputs": [
    {
     "name": "stdout",
     "output_type": "stream",
     "text": [
      "[[0 1 2]\n",
      " [3 4 5]]\n",
      "[[ 6  7  8]\n",
      " [ 9 10 11]]\n",
      "[[ 0  1  2  6  7  8]\n",
      " [ 3  4  5  9 10 11]]\n",
      "[[ 0  1  2]\n",
      " [ 3  4  5]\n",
      " [ 6  7  8]\n",
      " [ 9 10 11]]\n"
     ]
    }
   ],
   "source": [
    "c = np.arange(6).reshape(2,3)\n",
    "d = np.arange(6,12).reshape(2,3)\n",
    "\n",
    "# concatenate\n",
    "print(c)\n",
    "print(d)\n",
    "\n",
    "con = np.concatenate((c,d),axis=1)\n",
    "print(con)\n",
    "\n",
    "con1 = np.concatenate((c,d),axis=0)\n",
    "print(con1)\n"
   ]
  },
  {
   "cell_type": "code",
   "execution_count": 17,
   "id": "9d36fdf7",
   "metadata": {},
   "outputs": [
    {
     "name": "stdout",
     "output_type": "stream",
     "text": [
      "[1 2 3 4 5 6]\n"
     ]
    }
   ],
   "source": [
    "# unique\n",
    "\n",
    "e = np.array([1,1,2,2,3,3,3,4,4,5,5,6,6])\n",
    "print(np.unique(e))"
   ]
  },
  {
   "cell_type": "code",
   "execution_count": 22,
   "id": "51b08b71",
   "metadata": {},
   "outputs": [
    {
     "name": "stdout",
     "output_type": "stream",
     "text": [
      "[49 84 65 87 88 78 60 25 84 26  9 22 45 65 70]\n",
      "(15,)\n",
      "[[49 84 65 87 88 78 60 25 84 26  9 22 45 65 70]]\n",
      "(1, 15)\n",
      "[[49]\n",
      " [84]\n",
      " [65]\n",
      " [87]\n",
      " [88]\n",
      " [78]\n",
      " [60]\n",
      " [25]\n",
      " [84]\n",
      " [26]\n",
      " [ 9]\n",
      " [22]\n",
      " [45]\n",
      " [65]\n",
      " [70]]\n",
      "(15, 1)\n"
     ]
    }
   ],
   "source": [
    "# expand dimensions\n",
    "\n",
    "print(a)\n",
    "print(a.shape)\n",
    "expanded_a = np.expand_dims(a,axis=0)\n",
    "print(expanded_a)\n",
    "print(expanded_a.shape)\n",
    "\n",
    "expanded_a1 = np.expand_dims(a,axis=1)\n",
    "print(expanded_a1)\n",
    "print(expanded_a1.shape)\n",
    "\n"
   ]
  },
  {
   "cell_type": "code",
   "execution_count": 25,
   "id": "91de202a",
   "metadata": {},
   "outputs": [
    {
     "name": "stdout",
     "output_type": "stream",
     "text": [
      "[49 84 65 87 88 78 60 25 84 26  9 22 45 65 70]\n",
      "(array([ 1,  2,  3,  4,  5,  6,  8, 13, 14], dtype=int64),)\n"
     ]
    }
   ],
   "source": [
    "# where\n",
    "print(a)\n",
    "\n",
    "# returns indices wehre condition is satisfied\n",
    "wh = np.where(a>50)\n",
    "print(wh)"
   ]
  },
  {
   "cell_type": "code",
   "execution_count": 26,
   "id": "83878b9b",
   "metadata": {},
   "outputs": [
    {
     "data": {
      "text/plain": [
       "array([49,  0,  0,  0,  0,  0,  0, 25,  0, 26,  9, 22, 45,  0,  0])"
      ]
     },
     "execution_count": 26,
     "metadata": {},
     "output_type": "execute_result"
    }
   ],
   "source": [
    "# replace all where a > 50\n",
    "\n",
    "np.where(a>50,0,a)\n"
   ]
  },
  {
   "cell_type": "code",
   "execution_count": 27,
   "id": "f47ae755",
   "metadata": {},
   "outputs": [
    {
     "name": "stdout",
     "output_type": "stream",
     "text": [
      "[49 84 65 87 88 78 60 25 84 26  9 22 45 65 70]\n"
     ]
    },
    {
     "data": {
      "text/plain": [
       "4"
      ]
     },
     "execution_count": 27,
     "metadata": {},
     "output_type": "execute_result"
    }
   ],
   "source": [
    "# max element in an array in an axis\n",
    "print(a)\n",
    "np.argmax(a)\n",
    "\n",
    "\n",
    "print(b)\n",
    "print(np.argmax(b,axis=0))\n",
    "print(np.argmax(b,axis=1))"
   ]
  },
  {
   "cell_type": "code",
   "execution_count": 32,
   "id": "e6791535",
   "metadata": {},
   "outputs": [
    {
     "name": "stdout",
     "output_type": "stream",
     "text": [
      "[2 1 4 0]\n"
     ]
    }
   ],
   "source": [
    "# arg min\n",
    "np.argmin(a)\n",
    "\n",
    "print(np.argmin(b,axis=0))\n"
   ]
  },
  {
   "cell_type": "code",
   "execution_count": 36,
   "id": "f169b3be",
   "metadata": {},
   "outputs": [
    {
     "name": "stdout",
     "output_type": "stream",
     "text": [
      "[49 84 65 87 88 78 60 25 84 26  9 22 45 65 70]\n",
      "[ 49 133 198 285 373 451 511 536 620 646 655 677 722 787 857]\n",
      "[[23 90 85 30]\n",
      " [42 14 69 64]\n",
      " [10 24 56 33]\n",
      " [10 43 89 90]\n",
      " [13 58 30 41]\n",
      " [57 91 54 92]]\n",
      "[[ 23  90  85  30]\n",
      " [ 65 104 154  94]\n",
      " [ 75 128 210 127]\n",
      " [ 85 171 299 217]\n",
      " [ 98 229 329 258]\n",
      " [155 320 383 350]]\n",
      "[[ 23 113 198 228]\n",
      " [ 42  56 125 189]\n",
      " [ 10  34  90 123]\n",
      " [ 10  53 142 232]\n",
      " [ 13  71 101 142]\n",
      " [ 57 148 202 294]]\n"
     ]
    }
   ],
   "source": [
    "# cumulative sum\n",
    "print(a)\n",
    "print(np.cumsum(a))\n",
    "\n",
    "print(b)\n",
    "\n",
    "# if axis not given then converted to 1d\n",
    "print(np.cumsum(b, axis=0))\n",
    "print(np.cumsum(b, axis=1))\n"
   ]
  },
  {
   "cell_type": "code",
   "execution_count": 38,
   "id": "0bc7ff06",
   "metadata": {},
   "outputs": [
    {
     "name": "stdout",
     "output_type": "stream",
     "text": [
      "[         49        4116      267540    23275980  2048286240   852536768\n",
      "  -387401472 -1095102208 -1794272256   593561600  1047087104  1561079808\n",
      "  1529114624   608202752  -375480320]\n",
      "[[         23          90          85          30]\n",
      " [        966        1260        5865        1920]\n",
      " [       9660       30240      328440       63360]\n",
      " [      96600     1300320    29231160     5702400]\n",
      " [    1255800    75418560   876934800   233798400]\n",
      " [   71580600 -1726845632   109838944    34616320]]\n",
      "[[      23     2070   175950  5278500]\n",
      " [      42      588    40572  2596608]\n",
      " [      10      240    13440   443520]\n",
      " [      10      430    38270  3444300]\n",
      " [      13      754    22620   927420]\n",
      " [      57     5187   280098 25769016]]\n"
     ]
    }
   ],
   "source": [
    "# cumulative product\n",
    "\n",
    "print(np.cumprod(a))\n",
    "print(np.cumprod(b, axis=0))\n",
    "print(np.cumprod(b, axis=1))"
   ]
  },
  {
   "cell_type": "code",
   "execution_count": 41,
   "id": "0697e616",
   "metadata": {},
   "outputs": [
    {
     "name": "stdout",
     "output_type": "stream",
     "text": [
      "[49 84 65 87 88 78 60 25 84 26  9 22 45 65 70]\n",
      "88.0\n",
      "65.0\n"
     ]
    }
   ],
   "source": [
    "# percentile\n",
    "\n",
    "print(a)\n",
    "# maximum\n",
    "print(np.percentile(a,100))\n",
    "\n",
    "# median\n",
    "print(np.percentile(a,50))"
   ]
  },
  {
   "cell_type": "code",
   "execution_count": 42,
   "id": "21638656",
   "metadata": {},
   "outputs": [
    {
     "name": "stdout",
     "output_type": "stream",
     "text": [
      "[49 84 65 87 88 78 60 25 84 26  9 22 45 65 70]\n",
      "(array([1, 0, 3, 0, 2, 0, 3, 2, 4, 0], dtype=int64), array([  1,  10,  20,  30,  40,  50,  60,  70,  80,  90, 100]))\n"
     ]
    }
   ],
   "source": [
    "# histogram (frequency between 0-10, 10-20...)\n",
    "print(a)\n",
    "his= np.histogram(a,bins=[1,10,20,30,40,50,60,70,80,90,100])\n",
    "print(his)"
   ]
  },
  {
   "cell_type": "code",
   "execution_count": 43,
   "id": "7fc9a2f9",
   "metadata": {},
   "outputs": [
    {
     "data": {
      "text/plain": [
       "array([[1.        , 0.25344572],\n",
       "       [0.25344572, 1.        ]])"
      ]
     },
     "execution_count": 43,
     "metadata": {},
     "output_type": "execute_result"
    }
   ],
   "source": [
    "# corelation coefficient\n",
    "# returns pearson product-moment correlation coefficient\n",
    "# coef is b/w -1 and 1\n",
    "# relation between two variables\n",
    "sal = np.array([20000,40000, 25000, 35000, 60000])\n",
    "exp = np.array([1,3,2,4,2])\n",
    "\n",
    "\n",
    "np.corrcoef(sal,exp)"
   ]
  },
  {
   "cell_type": "code",
   "execution_count": 46,
   "id": "a9c205e7",
   "metadata": {},
   "outputs": [
    {
     "name": "stdout",
     "output_type": "stream",
     "text": [
      "[49 84 65 87 88 78 60 25 84 26  9 22 45 65 70]\n",
      "[False False False False False False  True False False False False False\n",
      " False False  True]\n"
     ]
    }
   ],
   "source": [
    "# is in\n",
    "print(a)\n",
    "items = [10,20,30,40,50,60,70,80,90,100]\n",
    "inside = np.isin(a,items)\n",
    "print(inside)"
   ]
  },
  {
   "cell_type": "code",
   "execution_count": 49,
   "id": "466b5539",
   "metadata": {},
   "outputs": [
    {
     "name": "stdout",
     "output_type": "stream",
     "text": [
      "[49 84 65 87 88 78 60 25 84 26  9 22 45 65 70]\n",
      "[70 65 45 22  9 26 84 25 60 78 88 87 65 84 49]\n",
      "[[23 90 85 30]\n",
      " [42 14 69 64]\n",
      " [10 24 56 33]\n",
      " [10 43 89 90]\n",
      " [13 58 30 41]\n",
      " [57 91 54 92]]\n",
      "[[92 54 91 57]\n",
      " [41 30 58 13]\n",
      " [90 89 43 10]\n",
      " [33 56 24 10]\n",
      " [64 69 14 42]\n",
      " [30 85 90 23]]\n",
      "[[57 91 54 92]\n",
      " [13 58 30 41]\n",
      " [10 43 89 90]\n",
      " [10 24 56 33]\n",
      " [42 14 69 64]\n",
      " [23 90 85 30]]\n",
      "[[30 85 90 23]\n",
      " [64 69 14 42]\n",
      " [33 56 24 10]\n",
      " [90 89 43 10]\n",
      " [41 30 58 13]\n",
      " [92 54 91 57]]\n"
     ]
    }
   ],
   "source": [
    "# flip reverses order along any specified axis\n",
    "# not useful\n",
    "print(a)\n",
    "print(np.flip(a))\n",
    "\n",
    "print(b)\n",
    "print(np.flip(b))\n",
    "print(np.flip(b, axis=0))\n",
    "print(np.flip(b, axis=1))\n"
   ]
  },
  {
   "cell_type": "code",
   "execution_count": 51,
   "id": "45c5f204",
   "metadata": {},
   "outputs": [
    {
     "name": "stdout",
     "output_type": "stream",
     "text": [
      "[49 84 65 87 88 78 60 25 84 26  9 22 45 65 70]\n",
      "[333 666  65  87  88  78  60  25  84  26   9  22  45  65  70]\n"
     ]
    }
   ],
   "source": [
    "# put replaces specific elem with given values\n",
    "# changes in original array\n",
    "print(a)\n",
    "np.put(a,[0,1], [333,666])\n",
    "\n",
    "print(a)"
   ]
  },
  {
   "cell_type": "code",
   "execution_count": 58,
   "id": "3c7d6435",
   "metadata": {},
   "outputs": [
    {
     "name": "stdout",
     "output_type": "stream",
     "text": [
      "[333 666  65  87  88  78  60  25  84  26   9  22  45  65  70]\n",
      "[666  87  78  60  25  84  26   9  22  45  65  70]\n"
     ]
    }
   ],
   "source": [
    "# delete\n",
    "print(a)\n",
    "a = np.delete(a,[0, 2, 4])\n",
    "print(a)"
   ]
  },
  {
   "cell_type": "code",
   "execution_count": 63,
   "id": "53a21b3d",
   "metadata": {},
   "outputs": [
    {
     "data": {
      "text/plain": [
       "array([1])"
      ]
     },
     "execution_count": 63,
     "metadata": {},
     "output_type": "execute_result"
    }
   ],
   "source": [
    "# set functions\n",
    "\n",
    "m = np.array([1,2,3,4,5])\n",
    "n = np.array([3,4,5,6,7])\n",
    "\n",
    "np.union1d(m,n)\n",
    "np.intersect1d(m,n)\n",
    "# in m but not in n\n",
    "np.setdiff1d(m,n)\n",
    "\n",
    "np.setxor1d(m,n)\n",
    "\n",
    "# whether elem is in set\n",
    "np.in1d(m,1)\n",
    "# returns elem\n",
    "m[np.in1d(m,1)]\n",
    "\n"
   ]
  },
  {
   "cell_type": "code",
   "execution_count": 64,
   "id": "34f4286c",
   "metadata": {},
   "outputs": [
    {
     "name": "stdout",
     "output_type": "stream",
     "text": [
      "[666  87  78  60  25  84  26   9  22  45  65  70]\n"
     ]
    },
    {
     "data": {
      "text/plain": [
       "array([75, 75, 75, 60, 25, 75, 26, 25, 25, 45, 65, 70])"
      ]
     },
     "execution_count": 64,
     "metadata": {},
     "output_type": "execute_result"
    }
   ],
   "source": [
    "# clip\n",
    "print(a)\n",
    "np.clip(a,a_min=25,a_max=75)"
   ]
  },
  {
   "cell_type": "code",
   "execution_count": null,
   "id": "ceb89fba",
   "metadata": {},
   "outputs": [],
   "source": []
  }
 ],
 "metadata": {
  "kernelspec": {
   "display_name": "Python 3 (ipykernel)",
   "language": "python",
   "name": "python3"
  },
  "language_info": {
   "codemirror_mode": {
    "name": "ipython",
    "version": 3
   },
   "file_extension": ".py",
   "mimetype": "text/x-python",
   "name": "python",
   "nbconvert_exporter": "python",
   "pygments_lexer": "ipython3",
   "version": "3.10.9"
  }
 },
 "nbformat": 4,
 "nbformat_minor": 5
}
