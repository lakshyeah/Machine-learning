{
 "cells": [
  {
   "cell_type": "code",
   "execution_count": 3,
   "id": "933056ee",
   "metadata": {},
   "outputs": [
    {
     "name": "stdout",
     "output_type": "stream",
     "text": [
      "<class 'numpy.ndarray'>\n",
      "[[1 2 3]\n",
      " [4 5 6]]\n",
      "[[ True  True  True]\n",
      " [ True  True  True]]\n"
     ]
    }
   ],
   "source": [
    "import numpy as np\n",
    "a = np.array([[1,2,3],[4,5,6]])\n",
    "print(type(a))\n",
    "print(a)\n",
    "b = np.array([[1,2,3],[4,5,6]], dtype=bool)\n",
    "print(b)"
   ]
  },
  {
   "cell_type": "code",
   "execution_count": 9,
   "id": "8ae400f0",
   "metadata": {},
   "outputs": [
    {
     "data": {
      "text/plain": [
       "array([[1., 1., 1., 1.],\n",
       "       [1., 1., 1., 1.],\n",
       "       [1., 1., 1., 1.]])"
      ]
     },
     "execution_count": 9,
     "metadata": {},
     "output_type": "execute_result"
    }
   ],
   "source": [
    "np.arange(1,11,2)\n",
    "np.ones((3,4))"
   ]
  },
  {
   "cell_type": "code",
   "execution_count": 8,
   "id": "7484940f",
   "metadata": {},
   "outputs": [
    {
     "data": {
      "text/plain": [
       "array([[0., 0., 0., 0.],\n",
       "       [0., 0., 0., 0.],\n",
       "       [0., 0., 0., 0.]])"
      ]
     },
     "execution_count": 8,
     "metadata": {},
     "output_type": "execute_result"
    }
   ],
   "source": [
    "np.zeros((3,4))"
   ]
  },
  {
   "cell_type": "code",
   "execution_count": 10,
   "id": "b8e034e1",
   "metadata": {},
   "outputs": [
    {
     "data": {
      "text/plain": [
       "array([[0.0338866 , 0.25793155, 0.87122924, 0.38878455],\n",
       "       [0.02474931, 0.12043188, 0.44239711, 0.26698375],\n",
       "       [0.4543821 , 0.91471479, 0.67359437, 0.4908673 ]])"
      ]
     },
     "execution_count": 10,
     "metadata": {},
     "output_type": "execute_result"
    }
   ],
   "source": [
    "np.random.random((3,4))"
   ]
  },
  {
   "cell_type": "code",
   "execution_count": 11,
   "id": "4de611e4",
   "metadata": {},
   "outputs": [
    {
     "data": {
      "text/plain": [
       "array([-10.        ,  -7.77777778,  -5.55555556,  -3.33333333,\n",
       "        -1.11111111,   1.11111111,   3.33333333,   5.55555556,\n",
       "         7.77777778,  10.        ])"
      ]
     },
     "execution_count": 11,
     "metadata": {},
     "output_type": "execute_result"
    }
   ],
   "source": [
    "# creates 10 equidistant  points between two points\n",
    "np.linspace(-10,10,10)"
   ]
  },
  {
   "cell_type": "code",
   "execution_count": 12,
   "id": "847c2c78",
   "metadata": {},
   "outputs": [
    {
     "data": {
      "text/plain": [
       "array([[1., 0., 0.],\n",
       "       [0., 1., 0.],\n",
       "       [0., 0., 1.]])"
      ]
     },
     "execution_count": 12,
     "metadata": {},
     "output_type": "execute_result"
    }
   ],
   "source": [
    "np.identity(3)"
   ]
  },
  {
   "cell_type": "code",
   "execution_count": 36,
   "id": "3286edad",
   "metadata": {},
   "outputs": [
    {
     "data": {
      "text/plain": [
       "dtype('int32')"
      ]
     },
     "execution_count": 36,
     "metadata": {},
     "output_type": "execute_result"
    }
   ],
   "source": [
    "a2 = np.arange(16).reshape(2,2,2,2)\n",
    "#a2 = np.arange(16).reshape(4,4)\n",
    "\n",
    "a2.ndim   # 4\n",
    "a2.shape   # (2,2,2,2)\n",
    "a2.size    # 16\n",
    "a2.itemsize    # per item size\n",
    "a2.dtype     # dtype('int32')"
   ]
  },
  {
   "cell_type": "code",
   "execution_count": 44,
   "id": "e2cf895a",
   "metadata": {},
   "outputs": [
    {
     "name": "stdout",
     "output_type": "stream",
     "text": [
      "int32\n",
      "int16\n"
     ]
    }
   ],
   "source": [
    "a = np.arange(10)\n",
    "print(a.dtype)\n",
    "\n",
    "a3 = a.astype(np.int16)\n",
    "print(a3.dtype)"
   ]
  },
  {
   "cell_type": "code",
   "execution_count": 45,
   "id": "4fba2f46",
   "metadata": {},
   "outputs": [
    {
     "name": "stdout",
     "output_type": "stream",
     "text": [
      "[[ 0  1  2  3]\n",
      " [ 4  5  6  7]\n",
      " [ 8  9 10 11]]\n",
      "[[12 13 14 15]\n",
      " [16 17 18 19]\n",
      " [20 21 22 23]]\n"
     ]
    }
   ],
   "source": [
    "b1 = np.arange(12).reshape(3,4)\n",
    "b2 = np.arange(12,24).reshape(3,4)\n",
    "print(b1)\n",
    "print(b2)"
   ]
  },
  {
   "cell_type": "code",
   "execution_count": 53,
   "id": "a749e3e9",
   "metadata": {},
   "outputs": [
    {
     "name": "stdout",
     "output_type": "stream",
     "text": [
      "[[  0  13  28  45]\n",
      " [ 64  85 108 133]\n",
      " [160 189 220 253]]\n",
      "[[-12 -12 -12 -12]\n",
      " [-12 -12 -12 -12]\n",
      " [-12 -12 -12 -12]]\n",
      "[[12 14 16 18]\n",
      " [20 22 24 26]\n",
      " [28 30 32 34]]\n",
      "[[0.         0.07692308 0.14285714 0.2       ]\n",
      " [0.25       0.29411765 0.33333333 0.36842105]\n",
      " [0.4        0.42857143 0.45454545 0.47826087]]\n",
      "[[ 0  2  4  6]\n",
      " [ 8 10 12 14]\n",
      " [16 18 20 22]]\n",
      "[[ 2  3  4  5]\n",
      " [ 6  7  8  9]\n",
      " [10 11 12 13]]\n",
      "[[  0   1   4   9]\n",
      " [ 16  25  36  49]\n",
      " [ 64  81 100 121]]\n",
      "[[False False False False]\n",
      " [False False False False]\n",
      " [False False False False]]\n",
      "[[          0           1       16384    14348907]\n",
      " [          0 -1564725563  1159987200   442181591]\n",
      " [          0  1914644777 -1304428544  -122979837]]\n"
     ]
    }
   ],
   "source": [
    "#scalar operations\n",
    "print(b1*2)\n",
    "print(b1+2)\n",
    "print(b1**2)\n",
    "\n",
    "# vector operations\n",
    "print(b1*b2)\n",
    "print(b1-b2)\n",
    "print(b1+b2)\n",
    "print(b1/b2)\n",
    "print(b1**b2)\n",
    "\n",
    "# relational operations\n",
    "print(b1>b2)\n"
   ]
  },
  {
   "cell_type": "code",
   "execution_count": 65,
   "id": "bd67f45e",
   "metadata": {},
   "outputs": [
    {
     "name": "stdout",
     "output_type": "stream",
     "text": [
      "[[0.82942959 0.31830101 0.94955421]\n",
      " [0.34783464 0.48634133 0.66918854]\n",
      " [0.13957663 0.16262937 0.68563659]]\n",
      "[[83. 32. 95.]\n",
      " [35. 49. 67.]\n",
      " [14. 16. 69.]]\n"
     ]
    },
    {
     "data": {
      "text/plain": [
       "dtype('float64')"
      ]
     },
     "execution_count": 65,
     "metadata": {},
     "output_type": "execute_result"
    }
   ],
   "source": [
    "#numpy functions\n",
    "\n",
    "c1 = np.random.random((3,3))\n",
    "#c1 = c1.astype(dtype=np.int32)\n",
    "print(c1)\n",
    "c1 = np.round(c1*100)\n",
    "print(c1)\n",
    "c1.dtype"
   ]
  },
  {
   "cell_type": "code",
   "execution_count": 74,
   "id": "eb469c48",
   "metadata": {},
   "outputs": [
    {
     "name": "stdout",
     "output_type": "stream",
     "text": [
      "95.0\n",
      "[83. 49. 95.]\n",
      "[95. 67. 69.]\n",
      "14.0\n",
      "460.0\n",
      "448113174297600.0\n",
      "51.111111111111114\n",
      "49.0\n",
      "27.39604369022183\n",
      "750.5432098765433\n"
     ]
    }
   ],
   "source": [
    "print(np.max(c1))\n",
    "\n",
    "# 0 -> col 1 -> row\n",
    "print(np.max(c1,axis=0))\n",
    "print(np.max(c1,axis=1))\n",
    "\n",
    "print(np.min(c1))\n",
    "print(np.sum(c1))\n",
    "print(np.prod(c1))\n",
    "print(np.mean(c1))\n",
    "print(np.median(c1))\n",
    "print(np.std(c1))\n",
    "print(np.var(c1))\n"
   ]
  },
  {
   "cell_type": "code",
   "execution_count": 77,
   "id": "9837bbe3",
   "metadata": {},
   "outputs": [
    {
     "name": "stdout",
     "output_type": "stream",
     "text": [
      "[[ 0  1  2  3]\n",
      " [ 4  5  6  7]\n",
      " [ 8  9 10 11]]\n",
      "[[12 13 14]\n",
      " [15 16 17]\n",
      " [18 19 20]\n",
      " [21 22 23]]\n"
     ]
    },
    {
     "data": {
      "text/plain": [
       "array([[114, 120, 126],\n",
       "       [378, 400, 422],\n",
       "       [642, 680, 718]])"
      ]
     },
     "execution_count": 77,
     "metadata": {},
     "output_type": "execute_result"
    }
   ],
   "source": [
    "c2 = np.arange(12).reshape(3,4)\n",
    "c3 = np.arange(12,24).reshape(4,3)\n",
    "print(c2)\n",
    "print(c3)\n",
    "np.dot(c2,c3)"
   ]
  },
  {
   "cell_type": "code",
   "execution_count": 78,
   "id": "9dbadc27",
   "metadata": {},
   "outputs": [
    {
     "data": {
      "text/plain": [
       "array([[[[1.00000000e+00, 2.71828183e+00],\n",
       "         [7.38905610e+00, 2.00855369e+01]],\n",
       "\n",
       "        [[5.45981500e+01, 1.48413159e+02],\n",
       "         [4.03428793e+02, 1.09663316e+03]]],\n",
       "\n",
       "\n",
       "       [[[2.98095799e+03, 8.10308393e+03],\n",
       "         [2.20264658e+04, 5.98741417e+04]],\n",
       "\n",
       "        [[1.62754791e+05, 4.42413392e+05],\n",
       "         [1.20260428e+06, 3.26901737e+06]]]])"
      ]
     },
     "execution_count": 78,
     "metadata": {},
     "output_type": "execute_result"
    }
   ],
   "source": [
    "np.exp(a1)"
   ]
  },
  {
   "cell_type": "code",
   "execution_count": 85,
   "id": "f3a7fcd8",
   "metadata": {},
   "outputs": [
    {
     "name": "stdout",
     "output_type": "stream",
     "text": [
      "[[83.43627729 68.31751294 28.45524315]\n",
      " [94.43937252 57.91824514 36.4365435 ]]\n",
      "[[83. 68. 28.]\n",
      " [94. 58. 36.]]\n",
      "[[83. 68. 28.]\n",
      " [94. 57. 36.]]\n",
      "[[84. 69. 29.]\n",
      " [95. 58. 37.]]\n"
     ]
    }
   ],
   "source": [
    "d1 = np.random.random((2,3))*100\n",
    "print(d1)\n",
    "print(np.round(d1))\n",
    "print(np.floor(d1))\n",
    "print(np.ceil(d1))\n"
   ]
  },
  {
   "cell_type": "code",
   "execution_count": 94,
   "id": "b9c151b8",
   "metadata": {
    "scrolled": true
   },
   "outputs": [
    {
     "name": "stdout",
     "output_type": "stream",
     "text": [
      "94.43937252284782\n",
      "94.43937252284782\n",
      "[[[ 0  1  2]\n",
      "  [ 3  4  5]\n",
      "  [ 6  7  8]]\n",
      "\n",
      " [[ 9 10 11]\n",
      "  [12 13 14]\n",
      "  [15 16 17]]\n",
      "\n",
      " [[18 19 20]\n",
      "  [21 22 23]\n",
      "  [24 25 26]]]\n",
      "20\n"
     ]
    }
   ],
   "source": [
    "# indexing\n",
    "print(d1[1,0])\n",
    "print(d1[1][0])\n",
    "\n",
    "\n",
    "d2 = np.arange(27).reshape(3,3,3)\n",
    "print(d2)\n",
    "print(d2[2,0,2])"
   ]
  },
  {
   "cell_type": "code",
   "execution_count": 145,
   "id": "4f688b15",
   "metadata": {},
   "outputs": [
    {
     "name": "stdout",
     "output_type": "stream",
     "text": [
      "[0 1 2 3 4 5 6 7 8 9]\n",
      "[2 3 4 5 6]\n",
      "[2 4 6]\n",
      "[[ 0  1  2  3]\n",
      " [ 4  5  6  7]\n",
      " [ 8  9 10 11]]\n",
      "[0 1 2 3]\n",
      "[ 2  6 10]\n",
      "[[ 5  6]\n",
      " [ 9 10]]\n",
      "[[ 5  6]\n",
      " [ 9 10]]\n",
      "[[ 0  3]\n",
      " [ 8 11]]\n",
      "[[ 1  3]\n",
      " [ 9 11]]\n",
      "[[[ 0  1  2]\n",
      "  [ 3  4  5]\n",
      "  [ 6  7  8]]\n",
      "\n",
      " [[ 9 10 11]\n",
      "  [12 13 14]\n",
      "  [15 16 17]]\n",
      "\n",
      " [[18 19 20]\n",
      "  [21 22 23]\n",
      "  [24 25 26]]]\n",
      "[[ 9 10 11]\n",
      " [12 13 14]\n",
      " [15 16 17]]\n",
      "[3 4 5]\n",
      "[[22 23]\n",
      " [25 26]]\n"
     ]
    }
   ],
   "source": [
    "#slicing\n",
    "e1 = np.arange(10)\n",
    "print(e1)\n",
    "print(e1[2:7])\n",
    "print(e1[2:7:2])\n",
    "\n",
    "\n",
    "e2 = np.arange(12).reshape(3,4)\n",
    "print(e2)\n",
    "print(e2[0,:])\n",
    "print(e2[:,2])\n",
    "print(e2[1:3, 1:3])\n",
    "print(e2[1:, 1:3])\n",
    "\n",
    "print(e2[::2,::3])\n",
    "print(e2[::2,1::2])\n",
    "\n",
    "e3 = np.arange(27).reshape(3,3,3)\n",
    "print(e3)\n",
    "print(e3[1])\n",
    "print(e3[0, 1,:])\n",
    "print(e3[2,1:,1:])\n"
   ]
  },
  {
   "cell_type": "code",
   "execution_count": 144,
   "id": "fcecfdf0",
   "metadata": {},
   "outputs": [
    {
     "name": "stdout",
     "output_type": "stream",
     "text": [
      "[0 2] [18 20]\n",
      "[[ 0  2]\n",
      " [18 20]]\n"
     ]
    }
   ],
   "source": [
    "print(e3[0,0,::2], e3[2,0,::2])\n",
    "\n",
    "# 2 jumps in column, need first row and then two jumps again\n",
    "print(e3[::2,0,::2])"
   ]
  },
  {
   "cell_type": "code",
   "execution_count": 147,
   "id": "02bec267",
   "metadata": {},
   "outputs": [
    {
     "name": "stdout",
     "output_type": "stream",
     "text": [
      "[[0 1 2]\n",
      " [3 4 5]\n",
      " [6 7 8]]\n",
      "[[ 9 10 11]\n",
      " [12 13 14]\n",
      " [15 16 17]]\n",
      "[[18 19 20]\n",
      " [21 22 23]\n",
      " [24 25 26]]\n",
      "0\n",
      "1\n",
      "2\n",
      "3\n",
      "4\n",
      "5\n",
      "6\n",
      "7\n",
      "8\n",
      "9\n",
      "10\n",
      "11\n",
      "12\n",
      "13\n",
      "14\n",
      "15\n",
      "16\n",
      "17\n",
      "18\n",
      "19\n",
      "20\n",
      "21\n",
      "22\n",
      "23\n",
      "24\n",
      "25\n",
      "26\n"
     ]
    }
   ],
   "source": [
    "for i in e3:\n",
    "    print(i)\n",
    "    \n",
    "# converts into 1d array and then returns\n",
    "for i in np.nditer(e3):\n",
    "    print(i)"
   ]
  },
  {
   "cell_type": "code",
   "execution_count": 152,
   "id": "ee291d7a",
   "metadata": {},
   "outputs": [
    {
     "name": "stdout",
     "output_type": "stream",
     "text": [
      "[[[ 0  1  2]\n",
      "  [ 3  4  5]\n",
      "  [ 6  7  8]]\n",
      "\n",
      " [[ 9 10 11]\n",
      "  [12 13 14]\n",
      "  [15 16 17]]\n",
      "\n",
      " [[18 19 20]\n",
      "  [21 22 23]\n",
      "  [24 25 26]]]\n",
      "________________\n",
      "[[[ 0  9 18]\n",
      "  [ 3 12 21]\n",
      "  [ 6 15 24]]\n",
      "\n",
      " [[ 1 10 19]\n",
      "  [ 4 13 22]\n",
      "  [ 7 16 25]]\n",
      "\n",
      " [[ 2 11 20]\n",
      "  [ 5 14 23]\n",
      "  [ 8 17 26]]]\n",
      "________________\n",
      "[[[ 0  9 18]\n",
      "  [ 3 12 21]\n",
      "  [ 6 15 24]]\n",
      "\n",
      " [[ 1 10 19]\n",
      "  [ 4 13 22]\n",
      "  [ 7 16 25]]\n",
      "\n",
      " [[ 2 11 20]\n",
      "  [ 5 14 23]\n",
      "  [ 8 17 26]]]\n"
     ]
    }
   ],
   "source": [
    "print(e3)\n",
    "\n",
    "# below are both transpose\n",
    "e4 = np.transpose(e3)\n",
    "print(e4)\n",
    "print(e3.T)"
   ]
  },
  {
   "cell_type": "code",
   "execution_count": 153,
   "id": "1896ae23",
   "metadata": {},
   "outputs": [
    {
     "name": "stdout",
     "output_type": "stream",
     "text": [
      "[ 0  1  2  3  4  5  6  7  8  9 10 11 12 13 14 15 16 17 18 19 20 21 22 23\n",
      " 24 25 26]\n"
     ]
    }
   ],
   "source": [
    "#ravel  (gives it as 1d array)\n",
    "e5 = e3.ravel()\n",
    "print(e5)"
   ]
  },
  {
   "cell_type": "code",
   "execution_count": 156,
   "id": "45fbbade",
   "metadata": {},
   "outputs": [
    {
     "name": "stdout",
     "output_type": "stream",
     "text": [
      "[[ 0  1  2  3 12 13 14 15]\n",
      " [ 4  5  6  7 16 17 18 19]\n",
      " [ 8  9 10 11 20 21 22 23]]\n",
      "[[ 0  1  2  3]\n",
      " [ 4  5  6  7]\n",
      " [ 8  9 10 11]\n",
      " [12 13 14 15]\n",
      " [16 17 18 19]\n",
      " [20 21 22 23]]\n"
     ]
    }
   ],
   "source": [
    "# horizontal stacking\n",
    "f1 = np.arange(12).reshape(3,4)\n",
    "f2 = np.arange(12,24).reshape(3,4)\n",
    "\n",
    "f3 = np.hstack((f1,f2))\n",
    "print(f3)\n",
    "\n",
    "# vertical stacking\n",
    "f4 = np.vstack((f1,f2))\n",
    "print(f4)"
   ]
  },
  {
   "cell_type": "code",
   "execution_count": 160,
   "id": "950b9c61",
   "metadata": {},
   "outputs": [
    {
     "name": "stdout",
     "output_type": "stream",
     "text": [
      "[array([[ 0,  1],\n",
      "       [ 4,  5],\n",
      "       [ 8,  9],\n",
      "       [12, 13],\n",
      "       [16, 17],\n",
      "       [20, 21]]), array([[ 2,  3],\n",
      "       [ 6,  7],\n",
      "       [10, 11],\n",
      "       [14, 15],\n",
      "       [18, 19],\n",
      "       [22, 23]])]\n",
      "[array([[ 0,  1,  2,  3],\n",
      "       [ 4,  5,  6,  7],\n",
      "       [ 8,  9, 10, 11]]), array([[12, 13, 14, 15],\n",
      "       [16, 17, 18, 19],\n",
      "       [20, 21, 22, 23]])]\n"
     ]
    }
   ],
   "source": [
    "# horizontal splitting\n",
    "# has to be equal division\n",
    "f5 = np.hsplit(f4,2)\n",
    "print(f5)\n",
    "\n",
    "# vertical splitting\n",
    "f6 = np.vsplit(f4,2)\n",
    "print(f6)"
   ]
  },
  {
   "cell_type": "code",
   "execution_count": null,
   "id": "40a03bf0",
   "metadata": {},
   "outputs": [],
   "source": []
  }
 ],
 "metadata": {
  "kernelspec": {
   "display_name": "Python 3 (ipykernel)",
   "language": "python",
   "name": "python3"
  },
  "language_info": {
   "codemirror_mode": {
    "name": "ipython",
    "version": 3
   },
   "file_extension": ".py",
   "mimetype": "text/x-python",
   "name": "python",
   "nbconvert_exporter": "python",
   "pygments_lexer": "ipython3",
   "version": "3.10.9"
  }
 },
 "nbformat": 4,
 "nbformat_minor": 5
}
