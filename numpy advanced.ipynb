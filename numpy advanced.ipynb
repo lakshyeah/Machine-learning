{
 "cells": [
  {
   "cell_type": "code",
   "execution_count": 16,
   "id": "447248c4",
   "metadata": {},
   "outputs": [
    {
     "name": "stdout",
     "output_type": "stream",
     "text": [
      "[[ 0  1  2]\n",
      " [ 3  4  5]\n",
      " [ 6  7  8]\n",
      " [ 9 10 11]]\n",
      "[[ 0  1  2]\n",
      " [ 6  7  8]\n",
      " [ 9 10 11]]\n"
     ]
    }
   ],
   "source": [
    "import numpy as np\n",
    "import matplotlib.pyplot as plt\n",
    "\n",
    "a = np.arange(12).reshape(4,3)\n",
    "print(a)\n",
    "\n",
    "#fancy indexing\n",
    "print(a[[0,2,3]])"
   ]
  },
  {
   "cell_type": "code",
   "execution_count": 5,
   "id": "259e0522",
   "metadata": {},
   "outputs": [
    {
     "name": "stdout",
     "output_type": "stream",
     "text": [
      "[[37 31 87  0]\n",
      " [88 78  2 61]\n",
      " [93 89 25 87]\n",
      " [39 19 91 63]\n",
      " [94 65 39  3]\n",
      " [96 88 62 23]]\n",
      "[87 88 78 61 93 89 87 91 63 94 65 96 88 62]\n",
      "[ 0 88 78  2 94 96 88 62]\n"
     ]
    }
   ],
   "source": [
    "#boolean indexing\n",
    "b = np.random.randint(0,100,24).reshape(6,4)\n",
    "print(b)\n",
    "print(b[b>50])\n",
    "print(b[b%2==0])\n"
   ]
  },
  {
   "cell_type": "code",
   "execution_count": 7,
   "id": "f85fab54",
   "metadata": {},
   "outputs": [
    {
     "name": "stdout",
     "output_type": "stream",
     "text": [
      "[[0 1 2]\n",
      " [3 4 5]]\n",
      "[[0 1 2]]\n",
      "[[0 2 4]\n",
      " [3 5 7]]\n"
     ]
    }
   ],
   "source": [
    "# broadcasting\n",
    "# smaller array is broadcasted across larger array so that they have compatible shapes\n",
    "\n",
    "a = np.arange(6).reshape(2,3)\n",
    "b = np.arange(3).reshape(1,3)\n",
    "\n",
    "print(a)\n",
    "print(b)\n",
    "print(a+b)\n"
   ]
  },
  {
   "cell_type": "code",
   "execution_count": 8,
   "id": "3fbad5cb",
   "metadata": {},
   "outputs": [
    {
     "data": {
      "text/plain": [
       "array([0.5       , 0.73105858, 0.88079708, 0.95257413, 0.98201379,\n",
       "       0.99330715, 0.99752738, 0.99908895, 0.99966465, 0.99987661])"
      ]
     },
     "execution_count": 8,
     "metadata": {},
     "output_type": "execute_result"
    }
   ],
   "source": [
    "a = np.arange(10)\n",
    "b = np.sum(a)\n",
    "\n",
    "\n",
    "# sigmoid\n",
    "def sigmoid(array):\n",
    "    return 1/(1+np.exp(-array))\n",
    "\n",
    "sigmoid(a)\n",
    "\n",
    "# mean squared error\n",
    "\n",
    "\n",
    "# categorical cross entropy"
   ]
  },
  {
   "cell_type": "code",
   "execution_count": 13,
   "id": "5270f222",
   "metadata": {},
   "outputs": [
    {
     "name": "stdout",
     "output_type": "stream",
     "text": [
      "[False False False False False  True False]\n",
      "[nan]\n",
      "[1. 2. 3. 4. 5. 6.]\n"
     ]
    }
   ],
   "source": [
    "# working with missing values\n",
    " \n",
    "c = np.array([1,2,3,4,5,np.nan,6])\n",
    "\n",
    "print(np.isnan(c))\n",
    "print(c[np.isnan(c)])\n",
    "print(c[~np.isnan(c)])"
   ]
  },
  {
   "cell_type": "code",
   "execution_count": 19,
   "id": "d81d87ea",
   "metadata": {},
   "outputs": [
    {
     "ename": "SyntaxError",
     "evalue": "invalid syntax (3388882105.py, line 4)",
     "output_type": "error",
     "traceback": [
      "\u001b[1;36m  Cell \u001b[1;32mIn[19], line 4\u001b[1;36m\u001b[0m\n\u001b[1;33m    y = x *log x\u001b[0m\n\u001b[1;37m               ^\u001b[0m\n\u001b[1;31mSyntaxError\u001b[0m\u001b[1;31m:\u001b[0m invalid syntax\n"
     ]
    }
   ],
   "source": [
    "# plotting a 2d plot\n",
    "x = np.linspace(-10,10,100)\n",
    "# y = x\n",
    "y = x *log x\n",
    "\n",
    "plt.plot()"
   ]
  },
  {
   "cell_type": "code",
   "execution_count": null,
   "id": "773f7500",
   "metadata": {},
   "outputs": [],
   "source": []
  }
 ],
 "metadata": {
  "kernelspec": {
   "display_name": "Python 3 (ipykernel)",
   "language": "python",
   "name": "python3"
  },
  "language_info": {
   "codemirror_mode": {
    "name": "ipython",
    "version": 3
   },
   "file_extension": ".py",
   "mimetype": "text/x-python",
   "name": "python",
   "nbconvert_exporter": "python",
   "pygments_lexer": "ipython3",
   "version": "3.10.9"
  }
 },
 "nbformat": 4,
 "nbformat_minor": 5
}
